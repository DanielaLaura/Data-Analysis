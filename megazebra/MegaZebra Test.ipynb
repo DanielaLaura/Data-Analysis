{
 "cells": [
  {
   "cell_type": "markdown",
   "metadata": {},
   "source": [
    "### MegaZebra Data Science Test"
   ]
  },
  {
   "cell_type": "markdown",
   "metadata": {},
   "source": [
    "### Question 1\n",
    "__MegaZebra are beta testing an update to a new story reading app.\n",
    "They can collect data showing how many people start reading a story and how many finish the story. This data can then be used to rank the strength of each story. You are\n",
    "asked for your opinion on how many players should be in the beta test so that insight regarding the data collected can be considered significant. keep in mind the more players\n",
    "suggested, the greater the cost to acquire them. How would you suggest to proceed?__"
   ]
  },
  {
   "cell_type": "markdown",
   "metadata": {},
   "source": [
    "The sample size to perform beta testing largelly depends on whether the test is  one-sample or two-sample [hypothesis testing](https://en.wikipedia.org/wiki/Statistical_hypothesis_testing) and the tracking metrics used to assess the success of the updated version; it can either be assessed on conversion rate (or LTV as it pointed out further into the test questions) in case of two-sample hypothesis testing ([A/B test](https://en.wikipedia.org/wiki/A/B_testing) of the 2 app versions) or it can be assessed on the number of started/finished stories in case of one-sample testing, to name a few options. This will give us a start on which kind of distribution to use  when calculating the sample size, that being in this case either normal distribution in the case of conversion rate(where you can use the mean and standard devition) or binomial distribution/ beta-binomial distribution/Poisson binomial distribution in case of number of started/finished stories.\n",
    "\n",
    "Further I will focus on the question of sample size for one-sample hypotesis testing:\n",
    "- how large does a sample need to be so that a [confidence interval](https://en.wikipedia.org/wiki/Confidence_interval) will be no wider than a given size?\n",
    "- how large does a sample need to be so that a hypothesis test will have a low [p-value](https://en.wikipedia.org/wiki/P-value) if a certain alternative hypothesis is true?\n",
    "\n",
    "The next step is to recall methods for inference about proportions, more preciselly confidence intervals formula:\n",
    "\n",
    "![](confintp.png)\n",
    "\n",
    "<center>Confidence Interval formula for p</center>\n",
    "\n",
    "We can then choose the confidence interval and calculculate the critical value ([z*](https://en.wikipedia.org/wiki/Z-test),  [t*](https://en.wikipedia.org/wiki/Student%27s_t-test), or any [relevant value](https://en.wikipedia.org/wiki/Test_statistic)) for the confidence interval; say we want\n",
    "to have 94% confidence interval and a desired margin error of 8%; p'(1 − p') is maximized here at 0.5 (if the value of p' from the sample turns out to be different, the margin of error will just be a bit smaller, which is even better); the z* value is equal to 1.88, ans so the sample size comes down to n > __130 users__.\n",
    "\n",
    "Suppose that we wanted a sample size large enough so that we could pick a rejection rule where α was less than 0.05 and the power when p = 0.2 was greater than 0.9; with model X ∼ Binomial(100, p). Playing with this model will make n and rejection rule change so that  α ≤ 0.05 and then find the corresponding power.\n",
    "\n",
    "For binomial distribution and proportions, the problem is delicated because of the discreteness and necessary sums of binomial\n",
    "probability calculations. Answering similar problems for normal populations is easier. However, we need to provide a guess \n",
    "for σ (standard deviation). Considering again to have 94% confidence interval, a margin error of 5% and σ = 0.20 , form the confidence interval for µ formula we come down to n(sample pupultion) > __57 users__.\n",
    "\n",
    "![Confidence Interval for µ](mean.png)\n",
    "                                               \n",
    "<center>Confidence Interval formula for µ</center>\n"
   ]
  },
  {
   "cell_type": "code",
   "execution_count": 1,
   "metadata": {},
   "outputs": [
    {
     "data": {
      "text/plain": [
       "56.550399999999996"
      ]
     },
     "execution_count": 1,
     "metadata": {},
     "output_type": "execute_result"
    }
   ],
   "source": [
    "# sample population calculation example\n",
    "s=0.2 # std\n",
    "t=1.88 # critical value\n",
    "me=0.05 # margin error\n",
    "n=(s*t/me)**2 # sample population\n",
    "n"
   ]
  },
  {
   "cell_type": "markdown",
   "metadata": {},
   "source": [
    "Those numbers I chose just to illustrate an example of how to calculate a sample number, they can defenetely be changed and adapted to a situation where we are presented with all the necessasry details.\n",
    "\n",
    "__Aslo, if the actual cost to acquire more than 30 players (n > 30 is an assumption in [test statistic ](https://en.wikipedia.org/wiki/Test_statistic)) is too high, and the [CLT](https://en.wikipedia.org/wiki/Central_limit_theorem) approximation does not hold, one may take a look at [Student’s t-test](https://en.wikipedia.org/wiki/Student%27s_t-test).__\n"
   ]
  },
  {
   "cell_type": "markdown",
   "metadata": {},
   "source": [
    "Further I will load and analize the data contained in .csv tables in order to answer question 2, 3 and 4."
   ]
  },
  {
   "cell_type": "code",
   "execution_count": 2,
   "metadata": {},
   "outputs": [],
   "source": [
    "#data manipulation\n",
    "import numpy as np \n",
    "import pandas as pd\n",
    "from functools import reduce\n",
    "\n",
    "#Visualization\n",
    "import matplotlib.pyplot as plt\n",
    "import seaborn as sns\n",
    "\n",
    "# Set a few plotting defaults\n",
    "%matplotlib inline\n",
    "plt.style.use('fivethirtyeight')\n",
    "plt.rcParams['font.size'] = 18\n",
    "plt.rcParams['patch.edgecolor'] = 'k'"
   ]
  },
  {
   "cell_type": "markdown",
   "metadata": {},
   "source": [
    "### Load in the data and examine it"
   ]
  },
  {
   "cell_type": "markdown",
   "metadata": {},
   "source": [
    "For each loaded table I have skipped first 6 and last 11/12 rows that were representing an informative header/summary and was irrelevant to this analysis."
   ]
  },
  {
   "cell_type": "code",
   "execution_count": 3,
   "metadata": {},
   "outputs": [],
   "source": [
    "# Read in  data\n",
    "dateparse = lambda x: pd.datetime.strptime(x, '%H:%M:%S').time()\n",
    "chapter= pd.read_csv('MZdata/Chapter.csv',skiprows=6,skipfooter=12,engine='python')\n",
    "funnel= pd.read_csv('MZdata/Funnel.csv', skiprows=6, skipfooter=12,engine='python')\n",
    "sessions= pd.read_csv('MZdata/Sessions.csv', skiprows=6,skipfooter=12,engine='python',parse_dates=['Date'])\n",
    "story_continue = pd.read_csv('MZdata/story continue.csv', skiprows=6,skipfooter=12,engine='python')\n",
    "story_start = pd.read_csv('MZdata/Story start.csv', skiprows=6,skipfooter=12,engine='python')\n",
    "story_end= pd.read_csv('MZdata/Story end.csv', skiprows=6,skipfooter=12,engine='python')"
   ]
  },
  {
   "cell_type": "code",
   "execution_count": 4,
   "metadata": {},
   "outputs": [
    {
     "data": {
      "text/html": [
       "<div>\n",
       "<style scoped>\n",
       "    .dataframe tbody tr th:only-of-type {\n",
       "        vertical-align: middle;\n",
       "    }\n",
       "\n",
       "    .dataframe tbody tr th {\n",
       "        vertical-align: top;\n",
       "    }\n",
       "\n",
       "    .dataframe thead th {\n",
       "        text-align: right;\n",
       "    }\n",
       "</style>\n",
       "<table border=\"1\" class=\"dataframe\">\n",
       "  <thead>\n",
       "    <tr style=\"text-align: right;\">\n",
       "      <th></th>\n",
       "      <th>Event Action</th>\n",
       "      <th>story_id</th>\n",
       "      <th>Total Events</th>\n",
       "      <th>Unique_Ev_chapters</th>\n",
       "      <th>Event Value</th>\n",
       "      <th>Avg. Value</th>\n",
       "    </tr>\n",
       "  </thead>\n",
       "  <tbody>\n",
       "    <tr>\n",
       "      <th>0</th>\n",
       "      <td>chapter_start</td>\n",
       "      <td>UnknownNumber</td>\n",
       "      <td>286</td>\n",
       "      <td>101</td>\n",
       "      <td>286</td>\n",
       "      <td>1.0</td>\n",
       "    </tr>\n",
       "    <tr>\n",
       "      <th>1</th>\n",
       "      <td>chapter_end</td>\n",
       "      <td>UnknownNumber</td>\n",
       "      <td>243</td>\n",
       "      <td>92</td>\n",
       "      <td>243</td>\n",
       "      <td>1.0</td>\n",
       "    </tr>\n",
       "    <tr>\n",
       "      <th>2</th>\n",
       "      <td>chapter_start</td>\n",
       "      <td>WolfenMoon</td>\n",
       "      <td>103</td>\n",
       "      <td>42</td>\n",
       "      <td>103</td>\n",
       "      <td>1.0</td>\n",
       "    </tr>\n",
       "  </tbody>\n",
       "</table>\n",
       "</div>"
      ],
      "text/plain": [
       "    Event Action       story_id  Total Events  Unique_Ev_chapters  \\\n",
       "0  chapter_start  UnknownNumber           286                 101   \n",
       "1    chapter_end  UnknownNumber           243                  92   \n",
       "2  chapter_start     WolfenMoon           103                  42   \n",
       "\n",
       "   Event Value  Avg. Value  \n",
       "0          286         1.0  \n",
       "1          243         1.0  \n",
       "2          103         1.0  "
      ]
     },
     "execution_count": 4,
     "metadata": {},
     "output_type": "execute_result"
    }
   ],
   "source": [
    "#Chapter table\n",
    "#rename the variables to more appropriate python syntax\n",
    "chapter=chapter.rename(columns = {'Unique Events':'Unique_Ev_chapters'})\n",
    "chapter.head(3)"
   ]
  },
  {
   "cell_type": "code",
   "execution_count": 5,
   "metadata": {},
   "outputs": [
    {
     "name": "stdout",
     "output_type": "stream",
     "text": [
      "<class 'pandas.core.frame.DataFrame'>\n",
      "RangeIndex: 192 entries, 0 to 191\n",
      "Data columns (total 6 columns):\n",
      "Event Action          192 non-null object\n",
      "story_id              192 non-null object\n",
      "Total Events          192 non-null int64\n",
      "Unique_Ev_chapters    192 non-null int64\n",
      "Event Value           192 non-null int64\n",
      "Avg. Value            192 non-null float64\n",
      "dtypes: float64(1), int64(3), object(2)\n",
      "memory usage: 9.1+ KB\n"
     ]
    }
   ],
   "source": [
    "# checking whether the data has assigned the correct datatypes\n",
    "chapter.info()"
   ]
  },
  {
   "cell_type": "code",
   "execution_count": 6,
   "metadata": {},
   "outputs": [
    {
     "data": {
      "text/html": [
       "<div>\n",
       "<style scoped>\n",
       "    .dataframe tbody tr th:only-of-type {\n",
       "        vertical-align: middle;\n",
       "    }\n",
       "\n",
       "    .dataframe tbody tr th {\n",
       "        vertical-align: top;\n",
       "    }\n",
       "\n",
       "    .dataframe thead th {\n",
       "        text-align: right;\n",
       "    }\n",
       "</style>\n",
       "<table border=\"1\" class=\"dataframe\">\n",
       "  <thead>\n",
       "    <tr style=\"text-align: right;\">\n",
       "      <th></th>\n",
       "      <th>Event Action</th>\n",
       "      <th>story_id</th>\n",
       "      <th>Total Events</th>\n",
       "      <th>Unique_Ev_funel</th>\n",
       "      <th>Event Value</th>\n",
       "      <th>Avg. Value</th>\n",
       "    </tr>\n",
       "  </thead>\n",
       "  <tbody>\n",
       "    <tr>\n",
       "      <th>0</th>\n",
       "      <td>chapter1_start</td>\n",
       "      <td>UnknownNumber</td>\n",
       "      <td>75</td>\n",
       "      <td>75</td>\n",
       "      <td>75</td>\n",
       "      <td>1.0</td>\n",
       "    </tr>\n",
       "    <tr>\n",
       "      <th>1</th>\n",
       "      <td>UnknownNumber_01_01.00.00_Chat</td>\n",
       "      <td>UnknownNumber</td>\n",
       "      <td>75</td>\n",
       "      <td>75</td>\n",
       "      <td>75</td>\n",
       "      <td>1.0</td>\n",
       "    </tr>\n",
       "    <tr>\n",
       "      <th>2</th>\n",
       "      <td>UnknownNumber_01_01.00.00_EmotionChoice_22</td>\n",
       "      <td>UnknownNumber</td>\n",
       "      <td>73</td>\n",
       "      <td>73</td>\n",
       "      <td>73</td>\n",
       "      <td>1.0</td>\n",
       "    </tr>\n",
       "  </tbody>\n",
       "</table>\n",
       "</div>"
      ],
      "text/plain": [
       "                                 Event Action       story_id  Total Events  \\\n",
       "0                              chapter1_start  UnknownNumber            75   \n",
       "1              UnknownNumber_01_01.00.00_Chat  UnknownNumber            75   \n",
       "2  UnknownNumber_01_01.00.00_EmotionChoice_22  UnknownNumber            73   \n",
       "\n",
       "   Unique_Ev_funel  Event Value  Avg. Value  \n",
       "0               75           75         1.0  \n",
       "1               75           75         1.0  \n",
       "2               73           73         1.0  "
      ]
     },
     "execution_count": 6,
     "metadata": {},
     "output_type": "execute_result"
    }
   ],
   "source": [
    "#funnel table\n",
    "#rename the variables to more appropriate python syntax\n",
    "funnel=funnel.rename(columns = {'Unique Events':'Unique_Ev_funel'})\n",
    "funnel.head(3)"
   ]
  },
  {
   "cell_type": "code",
   "execution_count": 7,
   "metadata": {},
   "outputs": [
    {
     "name": "stdout",
     "output_type": "stream",
     "text": [
      "<class 'pandas.core.frame.DataFrame'>\n",
      "RangeIndex: 1224 entries, 0 to 1223\n",
      "Data columns (total 6 columns):\n",
      "Event Action       1224 non-null object\n",
      "story_id           1224 non-null object\n",
      "Total Events       1224 non-null int64\n",
      "Unique_Ev_funel    1224 non-null int64\n",
      "Event Value        1224 non-null int64\n",
      "Avg. Value         1224 non-null float64\n",
      "dtypes: float64(1), int64(3), object(2)\n",
      "memory usage: 57.5+ KB\n"
     ]
    }
   ],
   "source": [
    "# checking whether the data has assigned the correct datatypes\n",
    "funnel.info()"
   ]
  },
  {
   "cell_type": "code",
   "execution_count": 8,
   "metadata": {},
   "outputs": [
    {
     "data": {
      "text/html": [
       "<div>\n",
       "<style scoped>\n",
       "    .dataframe tbody tr th:only-of-type {\n",
       "        vertical-align: middle;\n",
       "    }\n",
       "\n",
       "    .dataframe tbody tr th {\n",
       "        vertical-align: top;\n",
       "    }\n",
       "\n",
       "    .dataframe thead th {\n",
       "        text-align: right;\n",
       "    }\n",
       "</style>\n",
       "<table border=\"1\" class=\"dataframe\">\n",
       "  <thead>\n",
       "    <tr style=\"text-align: right;\">\n",
       "      <th></th>\n",
       "      <th>Date</th>\n",
       "      <th>Number of Sessions per User</th>\n",
       "      <th>Avg. Session Duration</th>\n",
       "    </tr>\n",
       "  </thead>\n",
       "  <tbody>\n",
       "    <tr>\n",
       "      <th>0</th>\n",
       "      <td>2019-12-27</td>\n",
       "      <td>2.18</td>\n",
       "      <td>00:16:49</td>\n",
       "    </tr>\n",
       "    <tr>\n",
       "      <th>1</th>\n",
       "      <td>2019-12-25</td>\n",
       "      <td>2.13</td>\n",
       "      <td>00:24:20</td>\n",
       "    </tr>\n",
       "    <tr>\n",
       "      <th>2</th>\n",
       "      <td>2019-12-26</td>\n",
       "      <td>1.96</td>\n",
       "      <td>00:22:46</td>\n",
       "    </tr>\n",
       "  </tbody>\n",
       "</table>\n",
       "</div>"
      ],
      "text/plain": [
       "        Date  Number of Sessions per User Avg. Session Duration\n",
       "0 2019-12-27                         2.18              00:16:49\n",
       "1 2019-12-25                         2.13              00:24:20\n",
       "2 2019-12-26                         1.96              00:22:46"
      ]
     },
     "execution_count": 8,
     "metadata": {},
     "output_type": "execute_result"
    }
   ],
   "source": [
    "#sessions table\n",
    "sessions.head(3)"
   ]
  },
  {
   "cell_type": "code",
   "execution_count": 9,
   "metadata": {},
   "outputs": [],
   "source": [
    "sessions['Avg. Session Duration'] =  pd.to_datetime(sessions['Avg. Session Duration'], infer_datetime_format=True)"
   ]
  },
  {
   "cell_type": "code",
   "execution_count": 10,
   "metadata": {},
   "outputs": [
    {
     "name": "stdout",
     "output_type": "stream",
     "text": [
      "<class 'pandas.core.frame.DataFrame'>\n",
      "RangeIndex: 8 entries, 0 to 7\n",
      "Data columns (total 3 columns):\n",
      "Date                           8 non-null datetime64[ns]\n",
      "Number of Sessions per User    8 non-null float64\n",
      "Avg. Session Duration          8 non-null datetime64[ns]\n",
      "dtypes: datetime64[ns](2), float64(1)\n",
      "memory usage: 272.0 bytes\n"
     ]
    }
   ],
   "source": [
    "# checking whether the data has assigned the correct datatypes\n",
    "sessions.info()"
   ]
  },
  {
   "cell_type": "code",
   "execution_count": 11,
   "metadata": {},
   "outputs": [
    {
     "data": {
      "text/html": [
       "<div>\n",
       "<style scoped>\n",
       "    .dataframe tbody tr th:only-of-type {\n",
       "        vertical-align: middle;\n",
       "    }\n",
       "\n",
       "    .dataframe tbody tr th {\n",
       "        vertical-align: top;\n",
       "    }\n",
       "\n",
       "    .dataframe thead th {\n",
       "        text-align: right;\n",
       "    }\n",
       "</style>\n",
       "<table border=\"1\" class=\"dataframe\">\n",
       "  <thead>\n",
       "    <tr style=\"text-align: right;\">\n",
       "      <th></th>\n",
       "      <th>story_id</th>\n",
       "      <th>Total Events</th>\n",
       "      <th>unique_cont_ev</th>\n",
       "      <th>Event Value</th>\n",
       "      <th>Avg. Value</th>\n",
       "    </tr>\n",
       "  </thead>\n",
       "  <tbody>\n",
       "    <tr>\n",
       "      <th>0</th>\n",
       "      <td>UnknownNumber</td>\n",
       "      <td>94</td>\n",
       "      <td>88</td>\n",
       "      <td>94</td>\n",
       "      <td>1.0</td>\n",
       "    </tr>\n",
       "    <tr>\n",
       "      <th>1</th>\n",
       "      <td>WolfenMoon</td>\n",
       "      <td>45</td>\n",
       "      <td>41</td>\n",
       "      <td>45</td>\n",
       "      <td>1.0</td>\n",
       "    </tr>\n",
       "    <tr>\n",
       "      <th>2</th>\n",
       "      <td>TattooArtist</td>\n",
       "      <td>31</td>\n",
       "      <td>23</td>\n",
       "      <td>31</td>\n",
       "      <td>1.0</td>\n",
       "    </tr>\n",
       "  </tbody>\n",
       "</table>\n",
       "</div>"
      ],
      "text/plain": [
       "        story_id  Total Events  unique_cont_ev  Event Value  Avg. Value\n",
       "0  UnknownNumber            94              88           94         1.0\n",
       "1     WolfenMoon            45              41           45         1.0\n",
       "2   TattooArtist            31              23           31         1.0"
      ]
     },
     "execution_count": 11,
     "metadata": {},
     "output_type": "execute_result"
    }
   ],
   "source": [
    "#story_continue table\n",
    "#rename the variables to more appropriate python syntax\n",
    "story_continue=story_continue.rename(columns = {'Event Label':'story_id'})\n",
    "story_continue=story_continue.rename(columns = {'Unique Events':'unique_cont_ev'})\n",
    "story_continue.head(3)\n"
   ]
  },
  {
   "cell_type": "code",
   "execution_count": 12,
   "metadata": {},
   "outputs": [
    {
     "name": "stdout",
     "output_type": "stream",
     "text": [
      "<class 'pandas.core.frame.DataFrame'>\n",
      "RangeIndex: 21 entries, 0 to 20\n",
      "Data columns (total 5 columns):\n",
      "story_id          21 non-null object\n",
      "Total Events      21 non-null int64\n",
      "unique_cont_ev    21 non-null int64\n",
      "Event Value       21 non-null int64\n",
      "Avg. Value        21 non-null float64\n",
      "dtypes: float64(1), int64(3), object(1)\n",
      "memory usage: 920.0+ bytes\n"
     ]
    }
   ],
   "source": [
    "# story_continue table\n",
    "# checking whether the data has assigned the correct datatypes\n",
    "story_continue.info()"
   ]
  },
  {
   "cell_type": "code",
   "execution_count": 13,
   "metadata": {},
   "outputs": [
    {
     "data": {
      "text/html": [
       "<div>\n",
       "<style scoped>\n",
       "    .dataframe tbody tr th:only-of-type {\n",
       "        vertical-align: middle;\n",
       "    }\n",
       "\n",
       "    .dataframe tbody tr th {\n",
       "        vertical-align: top;\n",
       "    }\n",
       "\n",
       "    .dataframe thead th {\n",
       "        text-align: right;\n",
       "    }\n",
       "</style>\n",
       "<table border=\"1\" class=\"dataframe\">\n",
       "  <thead>\n",
       "    <tr style=\"text-align: right;\">\n",
       "      <th></th>\n",
       "      <th>story_id</th>\n",
       "      <th>Total Events</th>\n",
       "      <th>unique_start_ev</th>\n",
       "      <th>Event Value</th>\n",
       "      <th>Avg. Value</th>\n",
       "    </tr>\n",
       "  </thead>\n",
       "  <tbody>\n",
       "    <tr>\n",
       "      <th>0</th>\n",
       "      <td>UnknownNumber</td>\n",
       "      <td>75</td>\n",
       "      <td>75</td>\n",
       "      <td>75</td>\n",
       "      <td>1.0</td>\n",
       "    </tr>\n",
       "    <tr>\n",
       "      <th>1</th>\n",
       "      <td>DiaryofaDominatrix</td>\n",
       "      <td>45</td>\n",
       "      <td>45</td>\n",
       "      <td>45</td>\n",
       "      <td>1.0</td>\n",
       "    </tr>\n",
       "    <tr>\n",
       "      <th>2</th>\n",
       "      <td>WolfenMoon</td>\n",
       "      <td>30</td>\n",
       "      <td>30</td>\n",
       "      <td>30</td>\n",
       "      <td>1.0</td>\n",
       "    </tr>\n",
       "  </tbody>\n",
       "</table>\n",
       "</div>"
      ],
      "text/plain": [
       "             story_id  Total Events  unique_start_ev  Event Value  Avg. Value\n",
       "0       UnknownNumber            75               75           75         1.0\n",
       "1  DiaryofaDominatrix            45               45           45         1.0\n",
       "2          WolfenMoon            30               30           30         1.0"
      ]
     },
     "execution_count": 13,
     "metadata": {},
     "output_type": "execute_result"
    }
   ],
   "source": [
    "#story_start table\n",
    "#rename the variables to more appropriate python syntax\n",
    "story_start=story_start.rename(columns = {'Event Label':'story_id'})\n",
    "story_start=story_start.rename(columns = {'Unique Events':'unique_start_ev'})\n",
    "story_start.head(3)"
   ]
  },
  {
   "cell_type": "code",
   "execution_count": 14,
   "metadata": {},
   "outputs": [
    {
     "name": "stdout",
     "output_type": "stream",
     "text": [
      "<class 'pandas.core.frame.DataFrame'>\n",
      "RangeIndex: 23 entries, 0 to 22\n",
      "Data columns (total 5 columns):\n",
      "story_id           23 non-null object\n",
      "Total Events       23 non-null int64\n",
      "unique_start_ev    23 non-null int64\n",
      "Event Value        23 non-null int64\n",
      "Avg. Value         23 non-null float64\n",
      "dtypes: float64(1), int64(3), object(1)\n",
      "memory usage: 1000.0+ bytes\n"
     ]
    }
   ],
   "source": [
    "# checking whether the data has assigned the correct datatypes\n",
    "story_start.info()"
   ]
  },
  {
   "cell_type": "code",
   "execution_count": 15,
   "metadata": {},
   "outputs": [
    {
     "data": {
      "text/html": [
       "<div>\n",
       "<style scoped>\n",
       "    .dataframe tbody tr th:only-of-type {\n",
       "        vertical-align: middle;\n",
       "    }\n",
       "\n",
       "    .dataframe tbody tr th {\n",
       "        vertical-align: top;\n",
       "    }\n",
       "\n",
       "    .dataframe thead th {\n",
       "        text-align: right;\n",
       "    }\n",
       "</style>\n",
       "<table border=\"1\" class=\"dataframe\">\n",
       "  <thead>\n",
       "    <tr style=\"text-align: right;\">\n",
       "      <th></th>\n",
       "      <th>story_id</th>\n",
       "      <th>Total Events</th>\n",
       "      <th>unique_end_ev</th>\n",
       "      <th>Event Value</th>\n",
       "      <th>Avg. Value</th>\n",
       "    </tr>\n",
       "  </thead>\n",
       "  <tbody>\n",
       "    <tr>\n",
       "      <th>0</th>\n",
       "      <td>DiaryofaDominatrix</td>\n",
       "      <td>20</td>\n",
       "      <td>20</td>\n",
       "      <td>20</td>\n",
       "      <td>1.0</td>\n",
       "    </tr>\n",
       "    <tr>\n",
       "      <th>1</th>\n",
       "      <td>UnknownNumber</td>\n",
       "      <td>14</td>\n",
       "      <td>14</td>\n",
       "      <td>14</td>\n",
       "      <td>1.0</td>\n",
       "    </tr>\n",
       "    <tr>\n",
       "      <th>2</th>\n",
       "      <td>WolfenMoon</td>\n",
       "      <td>12</td>\n",
       "      <td>12</td>\n",
       "      <td>12</td>\n",
       "      <td>1.0</td>\n",
       "    </tr>\n",
       "  </tbody>\n",
       "</table>\n",
       "</div>"
      ],
      "text/plain": [
       "             story_id  Total Events  unique_end_ev  Event Value  Avg. Value\n",
       "0  DiaryofaDominatrix            20             20           20         1.0\n",
       "1       UnknownNumber            14             14           14         1.0\n",
       "2          WolfenMoon            12             12           12         1.0"
      ]
     },
     "execution_count": 15,
     "metadata": {},
     "output_type": "execute_result"
    }
   ],
   "source": [
    "#story_end table\n",
    "#rename the variables to more appropriate python syntax\n",
    "story_end=story_end.rename(columns = {'Event Label':'story_id'})\n",
    "story_end=story_end.rename(columns = {'Unique Events':'unique_end_ev'})\n",
    "story_end.head(3)"
   ]
  },
  {
   "cell_type": "code",
   "execution_count": 16,
   "metadata": {},
   "outputs": [
    {
     "name": "stdout",
     "output_type": "stream",
     "text": [
      "<class 'pandas.core.frame.DataFrame'>\n",
      "RangeIndex: 21 entries, 0 to 20\n",
      "Data columns (total 5 columns):\n",
      "story_id         21 non-null object\n",
      "Total Events     21 non-null int64\n",
      "unique_end_ev    21 non-null int64\n",
      "Event Value      21 non-null int64\n",
      "Avg. Value       21 non-null float64\n",
      "dtypes: float64(1), int64(3), object(1)\n",
      "memory usage: 920.0+ bytes\n"
     ]
    }
   ],
   "source": [
    "# checking whether the data has assigned the correct datatypes\n",
    "story_end.info()"
   ]
  },
  {
   "cell_type": "code",
   "execution_count": 17,
   "metadata": {},
   "outputs": [],
   "source": [
    "#story_sel table\n",
    "# loading the rest of the tables\n",
    "story_sel = pd.read_csv('MZdata/Story selection.csv', skiprows=6,skipfooter=12,engine='python')\n",
    "story_replay= pd.read_csv('MZdata/story replay.csv', skiprows=6, skipfooter=12,engine='python')\n",
    "User_Revenue = pd.read_csv('MZdata/User & Revenue.csv', skiprows=6, skipfooter=12,engine='python',parse_dates=['Date'])"
   ]
  },
  {
   "cell_type": "code",
   "execution_count": 18,
   "metadata": {},
   "outputs": [
    {
     "data": {
      "text/html": [
       "<div>\n",
       "<style scoped>\n",
       "    .dataframe tbody tr th:only-of-type {\n",
       "        vertical-align: middle;\n",
       "    }\n",
       "\n",
       "    .dataframe tbody tr th {\n",
       "        vertical-align: top;\n",
       "    }\n",
       "\n",
       "    .dataframe thead th {\n",
       "        text-align: right;\n",
       "    }\n",
       "</style>\n",
       "<table border=\"1\" class=\"dataframe\">\n",
       "  <thead>\n",
       "    <tr style=\"text-align: right;\">\n",
       "      <th></th>\n",
       "      <th>story_id</th>\n",
       "      <th>Total Events</th>\n",
       "      <th>unique_sel_ev</th>\n",
       "      <th>Event Value</th>\n",
       "      <th>Avg. Value</th>\n",
       "    </tr>\n",
       "  </thead>\n",
       "  <tbody>\n",
       "    <tr>\n",
       "      <th>0</th>\n",
       "      <td>UnknownNumber</td>\n",
       "      <td>185</td>\n",
       "      <td>149</td>\n",
       "      <td>185</td>\n",
       "      <td>1.0</td>\n",
       "    </tr>\n",
       "    <tr>\n",
       "      <th>1</th>\n",
       "      <td>DiaryofaDominatrix</td>\n",
       "      <td>111</td>\n",
       "      <td>98</td>\n",
       "      <td>111</td>\n",
       "      <td>1.0</td>\n",
       "    </tr>\n",
       "    <tr>\n",
       "      <th>2</th>\n",
       "      <td>Cupido</td>\n",
       "      <td>101</td>\n",
       "      <td>82</td>\n",
       "      <td>101</td>\n",
       "      <td>1.0</td>\n",
       "    </tr>\n",
       "  </tbody>\n",
       "</table>\n",
       "</div>"
      ],
      "text/plain": [
       "             story_id  Total Events  unique_sel_ev  Event Value  Avg. Value\n",
       "0       UnknownNumber           185            149          185         1.0\n",
       "1  DiaryofaDominatrix           111             98          111         1.0\n",
       "2              Cupido           101             82          101         1.0"
      ]
     },
     "execution_count": 18,
     "metadata": {},
     "output_type": "execute_result"
    }
   ],
   "source": [
    "#rename the variables to more appropriate python syntax\n",
    "story_sel=story_sel.rename(columns = {'Event Label':'story_id'})\n",
    "story_sel=story_sel.rename(columns = {'Unique Events':'unique_sel_ev'})\n",
    "story_sel.head(3)"
   ]
  },
  {
   "cell_type": "code",
   "execution_count": 19,
   "metadata": {},
   "outputs": [
    {
     "name": "stdout",
     "output_type": "stream",
     "text": [
      "<class 'pandas.core.frame.DataFrame'>\n",
      "RangeIndex: 23 entries, 0 to 22\n",
      "Data columns (total 5 columns):\n",
      "story_id         23 non-null object\n",
      "Total Events     23 non-null int64\n",
      "unique_sel_ev    23 non-null int64\n",
      "Event Value      23 non-null int64\n",
      "Avg. Value       23 non-null float64\n",
      "dtypes: float64(1), int64(3), object(1)\n",
      "memory usage: 1000.0+ bytes\n"
     ]
    }
   ],
   "source": [
    "# checking whether the data has assigned the correct datatypes\n",
    "story_sel.info()"
   ]
  },
  {
   "cell_type": "code",
   "execution_count": 20,
   "metadata": {},
   "outputs": [
    {
     "data": {
      "text/html": [
       "<div>\n",
       "<style scoped>\n",
       "    .dataframe tbody tr th:only-of-type {\n",
       "        vertical-align: middle;\n",
       "    }\n",
       "\n",
       "    .dataframe tbody tr th {\n",
       "        vertical-align: top;\n",
       "    }\n",
       "\n",
       "    .dataframe thead th {\n",
       "        text-align: right;\n",
       "    }\n",
       "</style>\n",
       "<table border=\"1\" class=\"dataframe\">\n",
       "  <thead>\n",
       "    <tr style=\"text-align: right;\">\n",
       "      <th></th>\n",
       "      <th>story_id</th>\n",
       "      <th>Total Events</th>\n",
       "      <th>unique_replay_ev</th>\n",
       "      <th>Event Value</th>\n",
       "      <th>Avg. Value</th>\n",
       "    </tr>\n",
       "  </thead>\n",
       "  <tbody>\n",
       "    <tr>\n",
       "      <th>0</th>\n",
       "      <td>WolfenMoon</td>\n",
       "      <td>3</td>\n",
       "      <td>3</td>\n",
       "      <td>3</td>\n",
       "      <td>1.0</td>\n",
       "    </tr>\n",
       "    <tr>\n",
       "      <th>1</th>\n",
       "      <td>UnknownNumber</td>\n",
       "      <td>2</td>\n",
       "      <td>2</td>\n",
       "      <td>2</td>\n",
       "      <td>1.0</td>\n",
       "    </tr>\n",
       "    <tr>\n",
       "      <th>2</th>\n",
       "      <td>BeMineAgain</td>\n",
       "      <td>1</td>\n",
       "      <td>1</td>\n",
       "      <td>1</td>\n",
       "      <td>1.0</td>\n",
       "    </tr>\n",
       "  </tbody>\n",
       "</table>\n",
       "</div>"
      ],
      "text/plain": [
       "        story_id  Total Events  unique_replay_ev  Event Value  Avg. Value\n",
       "0     WolfenMoon             3                 3            3         1.0\n",
       "1  UnknownNumber             2                 2            2         1.0\n",
       "2    BeMineAgain             1                 1            1         1.0"
      ]
     },
     "execution_count": 20,
     "metadata": {},
     "output_type": "execute_result"
    }
   ],
   "source": [
    "# story_replay table\n",
    "#rename the variables to more appropriate python syntax\n",
    "story_replay=story_replay.rename(columns = {'Event Label':'story_id'})\n",
    "story_replay=story_replay.rename(columns = {'Unique Events':'unique_replay_ev'})\n",
    "story_replay.head(3)"
   ]
  },
  {
   "cell_type": "code",
   "execution_count": 21,
   "metadata": {},
   "outputs": [
    {
     "name": "stdout",
     "output_type": "stream",
     "text": [
      "<class 'pandas.core.frame.DataFrame'>\n",
      "RangeIndex: 8 entries, 0 to 7\n",
      "Data columns (total 5 columns):\n",
      "story_id            8 non-null object\n",
      "Total Events        8 non-null int64\n",
      "unique_replay_ev    8 non-null int64\n",
      "Event Value         8 non-null int64\n",
      "Avg. Value          8 non-null float64\n",
      "dtypes: float64(1), int64(3), object(1)\n",
      "memory usage: 400.0+ bytes\n"
     ]
    }
   ],
   "source": [
    "# checking whether the data has assigned the correct datatypes\n",
    "story_replay.info()"
   ]
  },
  {
   "cell_type": "code",
   "execution_count": 22,
   "metadata": {},
   "outputs": [
    {
     "data": {
      "text/html": [
       "<div>\n",
       "<style scoped>\n",
       "    .dataframe tbody tr th:only-of-type {\n",
       "        vertical-align: middle;\n",
       "    }\n",
       "\n",
       "    .dataframe tbody tr th {\n",
       "        vertical-align: top;\n",
       "    }\n",
       "\n",
       "    .dataframe thead th {\n",
       "        text-align: right;\n",
       "    }\n",
       "</style>\n",
       "<table border=\"1\" class=\"dataframe\">\n",
       "  <thead>\n",
       "    <tr style=\"text-align: right;\">\n",
       "      <th></th>\n",
       "      <th>Date</th>\n",
       "      <th>Users</th>\n",
       "      <th>Product Revenue</th>\n",
       "      <th>Revenue per User</th>\n",
       "    </tr>\n",
       "  </thead>\n",
       "  <tbody>\n",
       "    <tr>\n",
       "      <th>0</th>\n",
       "      <td>2019-12-24</td>\n",
       "      <td>187</td>\n",
       "      <td>US$12.31</td>\n",
       "      <td>US$0.07</td>\n",
       "    </tr>\n",
       "    <tr>\n",
       "      <th>1</th>\n",
       "      <td>2019-12-25</td>\n",
       "      <td>47</td>\n",
       "      <td>US$1.06</td>\n",
       "      <td>US$0.02</td>\n",
       "    </tr>\n",
       "    <tr>\n",
       "      <th>2</th>\n",
       "      <td>2019-12-26</td>\n",
       "      <td>27</td>\n",
       "      <td>US$0.00</td>\n",
       "      <td>US$0.00</td>\n",
       "    </tr>\n",
       "  </tbody>\n",
       "</table>\n",
       "</div>"
      ],
      "text/plain": [
       "        Date  Users Product Revenue Revenue per User\n",
       "0 2019-12-24    187        US$12.31          US$0.07\n",
       "1 2019-12-25     47         US$1.06          US$0.02\n",
       "2 2019-12-26     27         US$0.00          US$0.00"
      ]
     },
     "execution_count": 22,
     "metadata": {},
     "output_type": "execute_result"
    }
   ],
   "source": [
    "# User_Revenue table\n",
    "User_Revenue.head(3)"
   ]
  },
  {
   "cell_type": "code",
   "execution_count": 23,
   "metadata": {},
   "outputs": [],
   "source": [
    "#rename the variables to more appropriate python syntax\n",
    "User_Revenue=User_Revenue.rename(columns = {'Revenue per User':'Revenue_per_User'})\n",
    "User_Revenue=User_Revenue.rename(columns = {'Product Revenue':'Product_Revenue_USD'})\n",
    "#substracting the \"US$\" so I can manipulate the numbers in the rows later on\n",
    "User_Revenue['Product_Revenue_USD'] = User_Revenue['Product_Revenue_USD'].map(lambda x: x.lstrip('US$'))\n",
    "User_Revenue['Revenue_per_User'] = User_Revenue['Revenue_per_User'].map(lambda x: x.lstrip('US$'))"
   ]
  },
  {
   "cell_type": "code",
   "execution_count": 24,
   "metadata": {},
   "outputs": [
    {
     "data": {
      "text/html": [
       "<div>\n",
       "<style scoped>\n",
       "    .dataframe tbody tr th:only-of-type {\n",
       "        vertical-align: middle;\n",
       "    }\n",
       "\n",
       "    .dataframe tbody tr th {\n",
       "        vertical-align: top;\n",
       "    }\n",
       "\n",
       "    .dataframe thead th {\n",
       "        text-align: right;\n",
       "    }\n",
       "</style>\n",
       "<table border=\"1\" class=\"dataframe\">\n",
       "  <thead>\n",
       "    <tr style=\"text-align: right;\">\n",
       "      <th></th>\n",
       "      <th>Date</th>\n",
       "      <th>Users</th>\n",
       "      <th>Product_Revenue_USD</th>\n",
       "      <th>Revenue_per_User</th>\n",
       "    </tr>\n",
       "  </thead>\n",
       "  <tbody>\n",
       "    <tr>\n",
       "      <th>0</th>\n",
       "      <td>2019-12-24</td>\n",
       "      <td>187</td>\n",
       "      <td>12.31</td>\n",
       "      <td>0.07</td>\n",
       "    </tr>\n",
       "    <tr>\n",
       "      <th>1</th>\n",
       "      <td>2019-12-25</td>\n",
       "      <td>47</td>\n",
       "      <td>1.06</td>\n",
       "      <td>0.02</td>\n",
       "    </tr>\n",
       "    <tr>\n",
       "      <th>2</th>\n",
       "      <td>2019-12-26</td>\n",
       "      <td>27</td>\n",
       "      <td>0.00</td>\n",
       "      <td>0.00</td>\n",
       "    </tr>\n",
       "    <tr>\n",
       "      <th>3</th>\n",
       "      <td>2019-12-27</td>\n",
       "      <td>22</td>\n",
       "      <td>0.00</td>\n",
       "      <td>0.00</td>\n",
       "    </tr>\n",
       "    <tr>\n",
       "      <th>4</th>\n",
       "      <td>2019-12-28</td>\n",
       "      <td>15</td>\n",
       "      <td>0.00</td>\n",
       "      <td>0.00</td>\n",
       "    </tr>\n",
       "    <tr>\n",
       "      <th>5</th>\n",
       "      <td>2019-12-29</td>\n",
       "      <td>15</td>\n",
       "      <td>0.00</td>\n",
       "      <td>0.00</td>\n",
       "    </tr>\n",
       "    <tr>\n",
       "      <th>6</th>\n",
       "      <td>2019-12-31</td>\n",
       "      <td>13</td>\n",
       "      <td>0.00</td>\n",
       "      <td>0.00</td>\n",
       "    </tr>\n",
       "    <tr>\n",
       "      <th>7</th>\n",
       "      <td>2019-12-30</td>\n",
       "      <td>11</td>\n",
       "      <td>0.00</td>\n",
       "      <td>0.00</td>\n",
       "    </tr>\n",
       "  </tbody>\n",
       "</table>\n",
       "</div>"
      ],
      "text/plain": [
       "        Date  Users Product_Revenue_USD Revenue_per_User\n",
       "0 2019-12-24    187               12.31             0.07\n",
       "1 2019-12-25     47                1.06             0.02\n",
       "2 2019-12-26     27                0.00             0.00\n",
       "3 2019-12-27     22                0.00             0.00\n",
       "4 2019-12-28     15                0.00             0.00\n",
       "5 2019-12-29     15                0.00             0.00\n",
       "6 2019-12-31     13                0.00             0.00\n",
       "7 2019-12-30     11                0.00             0.00"
      ]
     },
     "execution_count": 24,
     "metadata": {},
     "output_type": "execute_result"
    }
   ],
   "source": [
    "User_Revenue"
   ]
  },
  {
   "cell_type": "code",
   "execution_count": 25,
   "metadata": {},
   "outputs": [
    {
     "name": "stdout",
     "output_type": "stream",
     "text": [
      "<class 'pandas.core.frame.DataFrame'>\n",
      "RangeIndex: 8 entries, 0 to 7\n",
      "Data columns (total 4 columns):\n",
      "Date                   8 non-null datetime64[ns]\n",
      "Users                  8 non-null int64\n",
      "Product_Revenue_USD    8 non-null object\n",
      "Revenue_per_User       8 non-null object\n",
      "dtypes: datetime64[ns](1), int64(1), object(2)\n",
      "memory usage: 336.0+ bytes\n"
     ]
    }
   ],
   "source": [
    "# checking whether the data has assigned the correct datatypes\n",
    "User_Revenue.info()"
   ]
  },
  {
   "cell_type": "markdown",
   "metadata": {},
   "source": [
    "### Question 2\n",
    "\n",
    "__Among the most engaged users, find patterns to determine as early as possible, if somebody will become a dedicated player or not. The earlier the better. Explain why and what you came up with.__"
   ]
  },
  {
   "cell_type": "markdown",
   "metadata": {},
   "source": [
    "Unfortunatelly, to be able to point at which users are the most engaged, I need to have some individual users logs that contain the user_id nd more detailed activity such as the story_id started, finished, money spent and so on.\n",
    "\n",
    "From the __User_Revenue table__  I can only say that before holydays (Christmas) there are more players active than during the holydays, which is normal due to the fact that people tend to spend their time different during these times. I can't deschiper any other playing or spending behaviour based on this information.\n",
    "\n",
    "An example of tentative star schema(also known as dimensional modeling) that would be necessary in order to give a specific answer to the above question would be:\n",
    "\n",
    "- user table\n",
    "- chapter table\n",
    "- start_story table\n",
    "- end_story table\n",
    "- session table\n",
    "\n",
    "\n",
    "![](ss.png)\n",
    "\n",
    "\n",
    "Having these tables, one can perform aggregate statistics based on each player's id and story_id and determine how many stories&chapters has started/finished, how many sessions has per day/week/month and what is the average session time, money spent etc.\n",
    "\n",
    "Tentativelly, the most engaged players would be the ones with a large number of sessions and session time per day/week and a constant log-in behaviour (same amount of time spent every day/week/month), a high number of finished chapters that will eventually lead to revenue.\n",
    "\n",
    "To be able to classify a player as engaged as early as possible such that marketing promotions can target and retain them, they need to show a predictable behaviour, i.e. show a constant playing behavior daily, weekly or montly, depending on what segmentation is desired.\n",
    "\n"
   ]
  },
  {
   "cell_type": "markdown",
   "metadata": {},
   "source": [
    "However, we could also directly target (online ads/personlaized campaigns offering bunddles or other incentives in-story) players that read the most engaging/popular story. We can find the most popular story by aggregating unique events from tables related to story activities and merge them in one dataframe for further analysis.\n",
    "\n",
    "We will further see that the most popular story is the one that is the most read and brings the most of revenue."
   ]
  },
  {
   "cell_type": "code",
   "execution_count": 26,
   "metadata": {},
   "outputs": [],
   "source": [
    "# performing aggregations on tables related to stories and chapter events so I can merge them into one dataframe\n",
    "chapter_ev=chapter.groupby(['story_id'],as_index=False).agg({'Unique_Ev_chapters': lambda x: x.sum()})\n",
    "funnel_ev=funnel.groupby(['story_id'],as_index=False).agg({'Unique_Ev_funel': lambda x: x.sum()}) \n",
    "story_sel_ev=story_sel.groupby(['story_id'],as_index=False).agg({'unique_sel_ev': lambda x: x.sum()}) \n",
    "story_start_ev=story_start.groupby(['story_id'],as_index=False).agg({'unique_start_ev': lambda x: x.sum()}) \n",
    "story_continue_ev=story_continue.groupby(['story_id'],as_index=False).agg({'unique_cont_ev': lambda x: x.sum()}) \n",
    "story_replay_ev=story_replay.groupby(['story_id'],as_index=False).agg({'unique_replay_ev': lambda x: x.sum()})\n",
    "story_end_ev=story_end.groupby(['story_id'],as_index=False).agg({'unique_end_ev': lambda x: x.sum()}) "
   ]
  },
  {
   "cell_type": "code",
   "execution_count": 27,
   "metadata": {
    "scrolled": true
   },
   "outputs": [
    {
     "data": {
      "text/html": [
       "<div>\n",
       "<style scoped>\n",
       "    .dataframe tbody tr th:only-of-type {\n",
       "        vertical-align: middle;\n",
       "    }\n",
       "\n",
       "    .dataframe tbody tr th {\n",
       "        vertical-align: top;\n",
       "    }\n",
       "\n",
       "    .dataframe thead th {\n",
       "        text-align: right;\n",
       "    }\n",
       "</style>\n",
       "<table border=\"1\" class=\"dataframe\">\n",
       "  <thead>\n",
       "    <tr style=\"text-align: right;\">\n",
       "      <th></th>\n",
       "      <th>story_id</th>\n",
       "      <th>Unique_Ev_chapters</th>\n",
       "      <th>Unique_Ev_funel</th>\n",
       "      <th>unique_sel_ev</th>\n",
       "      <th>unique_start_ev</th>\n",
       "      <th>unique_cont_ev</th>\n",
       "      <th>unique_replay_ev</th>\n",
       "      <th>unique_end_ev</th>\n",
       "    </tr>\n",
       "  </thead>\n",
       "  <tbody>\n",
       "    <tr>\n",
       "      <th>0</th>\n",
       "      <td>Assassin</td>\n",
       "      <td>92</td>\n",
       "      <td>753</td>\n",
       "      <td>47</td>\n",
       "      <td>12</td>\n",
       "      <td>17</td>\n",
       "      <td>0</td>\n",
       "      <td>4</td>\n",
       "    </tr>\n",
       "    <tr>\n",
       "      <th>1</th>\n",
       "      <td>BeMineAgain</td>\n",
       "      <td>26</td>\n",
       "      <td>142</td>\n",
       "      <td>21</td>\n",
       "      <td>7</td>\n",
       "      <td>4</td>\n",
       "      <td>1</td>\n",
       "      <td>5</td>\n",
       "    </tr>\n",
       "    <tr>\n",
       "      <th>2</th>\n",
       "      <td>BoundToHappen</td>\n",
       "      <td>25</td>\n",
       "      <td>95</td>\n",
       "      <td>34</td>\n",
       "      <td>6</td>\n",
       "      <td>5</td>\n",
       "      <td>0</td>\n",
       "      <td>4</td>\n",
       "    </tr>\n",
       "    <tr>\n",
       "      <th>3</th>\n",
       "      <td>CasinoHeist</td>\n",
       "      <td>5</td>\n",
       "      <td>70</td>\n",
       "      <td>18</td>\n",
       "      <td>2</td>\n",
       "      <td>1</td>\n",
       "      <td>0</td>\n",
       "      <td>1</td>\n",
       "    </tr>\n",
       "    <tr>\n",
       "      <th>4</th>\n",
       "      <td>Cupido</td>\n",
       "      <td>131</td>\n",
       "      <td>1348</td>\n",
       "      <td>82</td>\n",
       "      <td>21</td>\n",
       "      <td>20</td>\n",
       "      <td>1</td>\n",
       "      <td>9</td>\n",
       "    </tr>\n",
       "  </tbody>\n",
       "</table>\n",
       "</div>"
      ],
      "text/plain": [
       "        story_id  Unique_Ev_chapters  Unique_Ev_funel  unique_sel_ev  \\\n",
       "0       Assassin                  92              753             47   \n",
       "1    BeMineAgain                  26              142             21   \n",
       "2  BoundToHappen                  25               95             34   \n",
       "3    CasinoHeist                   5               70             18   \n",
       "4         Cupido                 131             1348             82   \n",
       "\n",
       "   unique_start_ev unique_cont_ev unique_replay_ev unique_end_ev  \n",
       "0               12             17                0             4  \n",
       "1                7              4                1             5  \n",
       "2                6              5                0             4  \n",
       "3                2              1                0             1  \n",
       "4               21             20                1             9  "
      ]
     },
     "execution_count": 27,
     "metadata": {},
     "output_type": "execute_result"
    }
   ],
   "source": [
    "# compile the list of dataframes wanted to merge\n",
    "data_frames = [chapter_ev, funnel_ev, story_sel_ev, story_start_ev, story_continue_ev, story_replay_ev, story_end_ev]\n",
    "\n",
    "# merge/join the dataframes & fill the values that don't exist in the lines of merged dataframe with 0\n",
    "data = reduce(lambda  left,right: pd.merge(left,right,on=['story_id'],\n",
    "                                            how='outer'), data_frames).fillna('0')\n",
    "data.head(5)\n"
   ]
  },
  {
   "cell_type": "code",
   "execution_count": 55,
   "metadata": {},
   "outputs": [
    {
     "data": {
      "text/plain": [
       "Text(0.5,1,'Stories popularity')"
      ]
     },
     "execution_count": 55,
     "metadata": {},
     "output_type": "execute_result"
    },
    {
     "data": {
      "image/png": "[encoded data removed]",
      "text/plain": [
       "<Figure size 432x288 with 1 Axes>"
      ]
     },
     "metadata": {},
     "output_type": "display_data"
    }
   ],
   "source": [
    "# plot for most popular story\n",
    "sns.set_style('whitegrid')\n",
    "sns.set(font_scale=1)\n",
    "ax = sns.barplot(x=\"Unique_Ev_funel\", y=\"story_id\", data=data)\n",
    "ax.set_xlabel('Total number of unique events')\n",
    "ax.set_ylabel(\"Story\")\n",
    "ax.set_title(\"Stories popularity\")"
   ]
  },
  {
   "cell_type": "markdown",
   "metadata": {},
   "source": [
    "__As per the plot from above and corresponding table, the story that has the highest registered activity (chapter events, story selection, read and finished)/popularity is UnknownNumber.__"
   ]
  },
  {
   "cell_type": "markdown",
   "metadata": {},
   "source": [
    "### Question 3\n",
    "\n",
    "__Assume that the only source of income are videos ads which are viewed after 3 chapters\n",
    "by all users. CPM is $10 for those video ads. What would a current LTV (actual numbers) be\n",
    "and what is a predicted one, if we continue to add chapters?__"
   ]
  },
  {
   "cell_type": "markdown",
   "metadata": {},
   "source": [
    "__To be able to see how many ads were viewed, I will check how many 3rd chapter and 6th chapter have been read and further computing the LTV based on these numbers.__\n",
    "\n",
    "I will consider as finished the chapters containing number 3 and 6 in their title, as there is no specific\n",
    "link between the story_id to the chapter number and a specific event code referred above in the star schema as code_id (2=finished, 1=started, 3=continued, 4=unlocked, 5=resumed, etc.) that reflects the exact situation. \n",
    "\n",
    "Also, I have considered that players can see video ads after every 3 chapters read. \n",
    "\n",
    "\n",
    "To be mentioned that some stories' chapters have no numbers whatsoever, are just specified as \"chapter_start\", \"chapter_end\" and \"chapter_backToStory\".\n",
    "\n",
    "__I have not considered these events in my computations due to the fact that I am not sure to which chapters they are referring. \n",
    "So the numbers illustrated in graphs do not necessary reflect the real situation.__"
   ]
  },
  {
   "cell_type": "code",
   "execution_count": 29,
   "metadata": {},
   "outputs": [],
   "source": [
    "# cost per mille= 10 USD per 1000 users\n",
    "CPM=10/1000"
   ]
  },
  {
   "cell_type": "code",
   "execution_count": 30,
   "metadata": {},
   "outputs": [],
   "source": [
    "# rename the Event Action to more appropriate python syntax\n",
    "chapter=chapter.rename(columns = {'Event Action':'Event_Action'})"
   ]
  },
  {
   "cell_type": "code",
   "execution_count": 31,
   "metadata": {},
   "outputs": [
    {
     "data": {
      "text/html": [
       "<div>\n",
       "<style scoped>\n",
       "    .dataframe tbody tr th:only-of-type {\n",
       "        vertical-align: middle;\n",
       "    }\n",
       "\n",
       "    .dataframe tbody tr th {\n",
       "        vertical-align: top;\n",
       "    }\n",
       "\n",
       "    .dataframe thead th {\n",
       "        text-align: right;\n",
       "    }\n",
       "</style>\n",
       "<table border=\"1\" class=\"dataframe\">\n",
       "  <thead>\n",
       "    <tr style=\"text-align: right;\">\n",
       "      <th></th>\n",
       "      <th>story_id</th>\n",
       "      <th>total_ev_ch3</th>\n",
       "      <th>LTV_03_usd</th>\n",
       "    </tr>\n",
       "  </thead>\n",
       "  <tbody>\n",
       "    <tr>\n",
       "      <th>0</th>\n",
       "      <td>Assassin</td>\n",
       "      <td>8</td>\n",
       "      <td>0.08</td>\n",
       "    </tr>\n",
       "    <tr>\n",
       "      <th>1</th>\n",
       "      <td>BeMineAgain</td>\n",
       "      <td>8</td>\n",
       "      <td>0.08</td>\n",
       "    </tr>\n",
       "    <tr>\n",
       "      <th>2</th>\n",
       "      <td>BoundToHappen</td>\n",
       "      <td>4</td>\n",
       "      <td>0.04</td>\n",
       "    </tr>\n",
       "  </tbody>\n",
       "</table>\n",
       "</div>"
      ],
      "text/plain": [
       "        story_id  total_ev_ch3  LTV_03_usd\n",
       "0       Assassin             8        0.08\n",
       "1    BeMineAgain             8        0.08\n",
       "2  BoundToHappen             4        0.04"
      ]
     },
     "execution_count": 31,
     "metadata": {},
     "output_type": "execute_result"
    }
   ],
   "source": [
    "# dataframe that contains reads of first 3 chapters of any listed story and their corresponding LTV\n",
    "revenue_chapter3 =chapter[chapter['Event_Action'].astype(str).str.contains('03')].groupby(chapter['story_id']).sum()\n",
    "revenue_chapter3=revenue_chapter3.rename(columns = {'Total Events':'total_ev_ch3'})\n",
    "revenue_chapter3.drop(['Unique_Ev_chapters','Event Value', 'Avg. Value'], axis=1, inplace = True)\n",
    "revenue_chapter3['LTV_03_usd'] = revenue_chapter3['total_ev_ch3']*CPM\n",
    "revenue_chapter3.reset_index(inplace = True) \n",
    "revenue_chapter3.head(3)"
   ]
  },
  {
   "cell_type": "code",
   "execution_count": 32,
   "metadata": {},
   "outputs": [
    {
     "data": {
      "text/html": [
       "<div>\n",
       "<style scoped>\n",
       "    .dataframe tbody tr th:only-of-type {\n",
       "        vertical-align: middle;\n",
       "    }\n",
       "\n",
       "    .dataframe tbody tr th {\n",
       "        vertical-align: top;\n",
       "    }\n",
       "\n",
       "    .dataframe thead th {\n",
       "        text-align: right;\n",
       "    }\n",
       "</style>\n",
       "<table border=\"1\" class=\"dataframe\">\n",
       "  <thead>\n",
       "    <tr style=\"text-align: right;\">\n",
       "      <th></th>\n",
       "      <th>story_id</th>\n",
       "      <th>total_ev_ch6</th>\n",
       "      <th>LTV_06_usd</th>\n",
       "    </tr>\n",
       "  </thead>\n",
       "  <tbody>\n",
       "    <tr>\n",
       "      <th>0</th>\n",
       "      <td>Assassin</td>\n",
       "      <td>4</td>\n",
       "      <td>0.04</td>\n",
       "    </tr>\n",
       "    <tr>\n",
       "      <th>1</th>\n",
       "      <td>Cupido</td>\n",
       "      <td>10</td>\n",
       "      <td>0.10</td>\n",
       "    </tr>\n",
       "    <tr>\n",
       "      <th>2</th>\n",
       "      <td>UnknownNumber</td>\n",
       "      <td>23</td>\n",
       "      <td>0.23</td>\n",
       "    </tr>\n",
       "  </tbody>\n",
       "</table>\n",
       "</div>"
      ],
      "text/plain": [
       "        story_id  total_ev_ch6  LTV_06_usd\n",
       "0       Assassin             4        0.04\n",
       "1         Cupido            10        0.10\n",
       "2  UnknownNumber            23        0.23"
      ]
     },
     "execution_count": 32,
     "metadata": {},
     "output_type": "execute_result"
    }
   ],
   "source": [
    "# dataframe that contains reads of first 6 chapters of any listed story and their corresponding LTV\n",
    "revenue_chapter6 =chapter[chapter['Event_Action'].astype(str).str.contains('06')].groupby(chapter['story_id']).sum()\n",
    "revenue_chapter6=revenue_chapter6.rename(columns = {'Total Events':'total_ev_ch6'})\n",
    "revenue_chapter6.drop(['Unique_Ev_chapters','Event Value', 'Avg. Value'], axis=1, inplace = True)\n",
    "revenue_chapter6['LTV_06_usd'] = revenue_chapter6['total_ev_ch6']*CPM\n",
    "revenue_chapter6.reset_index(inplace = True)\n",
    "revenue_chapter6"
   ]
  },
  {
   "cell_type": "code",
   "execution_count": 33,
   "metadata": {},
   "outputs": [
    {
     "data": {
      "text/plain": [
       "2.5600000000000005"
      ]
     },
     "execution_count": 33,
     "metadata": {},
     "output_type": "execute_result"
    }
   ],
   "source": [
    "# current LTV (in USD) from reads of first 3 or 6 chapters of any listed story\n",
    "actual_LTV = sum(revenue_chapter3.LTV_03_usd)+ sum(revenue_chapter6.LTV_06_usd)\n",
    "actual_LTV"
   ]
  },
  {
   "cell_type": "markdown",
   "metadata": {},
   "source": [
    "__We could consider as a part of future income an addition of chapters (up to another 3 chapters) to those stories that\n",
    "have 3 chapters already read. In that case, the future income would be equal to the one coming from stories with only 3 chapters read minus the stories which already have 6 chapters read.__"
   ]
  },
  {
   "cell_type": "code",
   "execution_count": 34,
   "metadata": {},
   "outputs": [
    {
     "data": {
      "text/plain": [
       "1.82"
      ]
     },
     "execution_count": 34,
     "metadata": {},
     "output_type": "execute_result"
    }
   ],
   "source": [
    "# number of reads from chapter 3 to chapter 6 for future LTV\n",
    "f_number=sum(revenue_chapter3.total_ev_ch3) - sum(revenue_chapter6.total_ev_ch6)\n",
    "# future LTV from users that are left to read from chapter 3 to chapter 6 in USD\n",
    "f1_LTV=f_number*CPM\n",
    "f1_LTV"
   ]
  },
  {
   "cell_type": "code",
   "execution_count": 35,
   "metadata": {},
   "outputs": [
    {
     "data": {
      "text/html": [
       "<div>\n",
       "<style scoped>\n",
       "    .dataframe tbody tr th:only-of-type {\n",
       "        vertical-align: middle;\n",
       "    }\n",
       "\n",
       "    .dataframe tbody tr th {\n",
       "        vertical-align: top;\n",
       "    }\n",
       "\n",
       "    .dataframe thead th {\n",
       "        text-align: right;\n",
       "    }\n",
       "</style>\n",
       "<table border=\"1\" class=\"dataframe\">\n",
       "  <thead>\n",
       "    <tr style=\"text-align: right;\">\n",
       "      <th></th>\n",
       "      <th>story_id</th>\n",
       "      <th>total_ev_ch3</th>\n",
       "      <th>LTV_03_usd</th>\n",
       "      <th>total_ev_ch6</th>\n",
       "      <th>LTV_06_usd</th>\n",
       "      <th>predicted_LTV</th>\n",
       "    </tr>\n",
       "  </thead>\n",
       "  <tbody>\n",
       "    <tr>\n",
       "      <th>0</th>\n",
       "      <td>Assassin</td>\n",
       "      <td>8</td>\n",
       "      <td>0.08</td>\n",
       "      <td>4.0</td>\n",
       "      <td>0.04</td>\n",
       "      <td>0.04</td>\n",
       "    </tr>\n",
       "    <tr>\n",
       "      <th>1</th>\n",
       "      <td>BeMineAgain</td>\n",
       "      <td>8</td>\n",
       "      <td>0.08</td>\n",
       "      <td>0.0</td>\n",
       "      <td>0.00</td>\n",
       "      <td>0.08</td>\n",
       "    </tr>\n",
       "    <tr>\n",
       "      <th>2</th>\n",
       "      <td>BoundToHappen</td>\n",
       "      <td>4</td>\n",
       "      <td>0.04</td>\n",
       "      <td>0.0</td>\n",
       "      <td>0.00</td>\n",
       "      <td>0.04</td>\n",
       "    </tr>\n",
       "  </tbody>\n",
       "</table>\n",
       "</div>"
      ],
      "text/plain": [
       "        story_id  total_ev_ch3  LTV_03_usd  total_ev_ch6  LTV_06_usd  \\\n",
       "0       Assassin             8        0.08           4.0        0.04   \n",
       "1    BeMineAgain             8        0.08           0.0        0.00   \n",
       "2  BoundToHappen             4        0.04           0.0        0.00   \n",
       "\n",
       "   predicted_LTV  \n",
       "0           0.04  \n",
       "1           0.08  \n",
       "2           0.04  "
      ]
     },
     "execution_count": 35,
     "metadata": {},
     "output_type": "execute_result"
    }
   ],
   "source": [
    "# compile the list of dataframes wanted to merge\n",
    "data_frames = [revenue_chapter3, revenue_chapter6]\n",
    "\n",
    "# merge/join the dataframes & fill the values that don't exist in the lines of merged dataframe with 0\n",
    "df_merged = reduce(lambda  left,right: pd.merge(left,right,on=['story_id'],\n",
    "                                            how='outer'), data_frames).fillna('0')\n",
    "\n",
    "# rename the variables to more appropriate python syntax\n",
    "df_merged[\"total_ev_ch6\"] = pd.to_numeric(df_merged[\"total_ev_ch6\"])\n",
    "df_merged[\"LTV_06_usd\"] = pd.to_numeric(df_merged[\"LTV_06_usd\"])\n",
    "df_merged['predicted_LTV'] = (df_merged['total_ev_ch3'] - df_merged['total_ev_ch6'])*CPM\n",
    "df_merged.head(3)"
   ]
  },
  {
   "cell_type": "code",
   "execution_count": 39,
   "metadata": {},
   "outputs": [
    {
     "data": {
      "text/plain": [
       "Text(0.5,1,\"Reads of stories' first 3 chapters\")"
      ]
     },
     "execution_count": 39,
     "metadata": {},
     "output_type": "execute_result"
    },
    {
     "data": {
      "image/png": "[encoded data removed]",
      "text/plain": [
       "<Figure size 432x288 with 1 Axes>"
      ]
     },
     "metadata": {},
     "output_type": "display_data"
    }
   ],
   "source": [
    "# plot for reads of stories' first 3 chapters\n",
    "sns.set_style('whitegrid')\n",
    "sns.set(font_scale=1)\n",
    "ax = sns.barplot(x=\"total_ev_ch3\", y=\"story_id\", data=df_merged)\n",
    "ax.set_xlabel('Total number of reads per story')\n",
    "ax.set_ylabel(\"Story\")\n",
    "ax.set_title(\"Reads of stories' first 3 chapters\")"
   ]
  },
  {
   "cell_type": "markdown",
   "metadata": {},
   "source": [
    "__As per the plot from above and corresponding table, the most read story's first 3 chapters is UnknownNumber with more than 50 reads, followed by DiaryofaDominatrix with up to 30 reads.__"
   ]
  },
  {
   "cell_type": "code",
   "execution_count": 51,
   "metadata": {},
   "outputs": [
    {
     "data": {
      "text/plain": [
       "Text(0.5,1,'Current LTV (in USD) from reads of first 3 chapters of any listed story')"
      ]
     },
     "execution_count": 51,
     "metadata": {},
     "output_type": "execute_result"
    },
    {
     "data": {
      "image/png": "[encoded data removed]",
      "text/plain": [
       "<Figure size 432x288 with 1 Axes>"
      ]
     },
     "metadata": {},
     "output_type": "display_data"
    }
   ],
   "source": [
    "# current LTV (in USD) from reads of first 3 chapters of any listed story\n",
    "sns.set_style('whitegrid')\n",
    "sns.set(font_scale=1)\n",
    "ax = sns.barplot(x=\"LTV_03_usd\", y=\"story_id\", data=revenue_chapter3)\n",
    "ax.set_xlabel('Total LTV(in USD) per story')\n",
    "ax.set_ylabel(\"Story\")\n",
    "ax.set_title(\"Current LTV (in USD) from reads of first 3 chapters of any listed story\")"
   ]
  },
  {
   "cell_type": "markdown",
   "metadata": {},
   "source": [
    "__As per the plot from above and corresponding table, the ads viewed after UnknownNumber' first 3 chapters brought the most of revenue among the listed stories.__"
   ]
  },
  {
   "cell_type": "code",
   "execution_count": 45,
   "metadata": {},
   "outputs": [
    {
     "data": {
      "text/plain": [
       "Text(0.5,1,\"Reads of stories' first 6 chapters\")"
      ]
     },
     "execution_count": 45,
     "metadata": {},
     "output_type": "execute_result"
    },
    {
     "data": {
      "image/png": "[encoded data removed]",
      "text/plain": [
       "<Figure size 432x288 with 1 Axes>"
      ]
     },
     "metadata": {},
     "output_type": "display_data"
    }
   ],
   "source": [
    "# plot for reads of stories' first 6 chapters\n",
    "sns.set_style('whitegrid')\n",
    "sns.set(font_scale=1)\n",
    "ax = sns.barplot(x=\"total_ev_ch6\", y=\"story_id\", data=revenue_chapter6)\n",
    "ax.set_xlabel('Total number of reads per story')\n",
    "ax.set_ylabel(\"Story\")\n",
    "ax.set_title(\"Reads of stories' first 6 chapters\")"
   ]
  },
  {
   "cell_type": "markdown",
   "metadata": {},
   "source": [
    "__As per the plot from above and corresponding table, the most read story's first 6 chapters is UnknownNumber with more than 20 reads, followed by Cupido.__"
   ]
  },
  {
   "cell_type": "code",
   "execution_count": 53,
   "metadata": {},
   "outputs": [
    {
     "data": {
      "text/plain": [
       "Text(0.5,1,'Current LTV(in USD) from reads of first 6 chapters of any listed story')"
      ]
     },
     "execution_count": 53,
     "metadata": {},
     "output_type": "execute_result"
    },
    {
     "data": {
      "image/png": "[encoded data removed]",
      "text/plain": [
       "<Figure size 432x288 with 1 Axes>"
      ]
     },
     "metadata": {},
     "output_type": "display_data"
    }
   ],
   "source": [
    "# current LTV (in USD) from reads of first 6 chapters of any listed story\n",
    "sns.set_style('whitegrid')\n",
    "sns.set(font_scale=1)\n",
    "ax = sns.barplot(x=\"LTV_06_usd\", y=\"story_id\", data=revenue_chapter6)\n",
    "ax.set_xlabel('Total LTV(in USD) per story')\n",
    "ax.set_ylabel(\"Story\")\n",
    "ax.set_title(\"Current LTV(in USD) from reads of first 6 chapters of any listed story\")"
   ]
  },
  {
   "cell_type": "markdown",
   "metadata": {},
   "source": [
    "__As per the plot from above and corresponding table, the ads viewed after UnknownNumber' first 6 chapters brought the most of revenue among the listed stories.__"
   ]
  },
  {
   "cell_type": "code",
   "execution_count": 54,
   "metadata": {},
   "outputs": [
    {
     "data": {
      "image/png": "[encoded data removed]",
      "text/plain": [
       "<Figure size 432x288 with 1 Axes>"
      ]
     },
     "metadata": {},
     "output_type": "display_data"
    }
   ],
   "source": [
    "# pie chart of overall(current ans predicted) LTV (in percentage)\n",
    "labels = ['LTV 3 chapters', 'LTV 6 chapters', 'Predicted LTV']\n",
    "sizes = [df_merged['LTV_03_usd'].sum(),\n",
    "         df_merged['LTV_06_usd'].sum(),\n",
    "         df_merged['predicted_LTV'].sum()\n",
    "        ]\n",
    "fig1, ax1 = plt.subplots()\n",
    "ax1.pie(sizes, labels=labels, autopct='%1.1f%%', shadow=True)\n",
    "ax1.axis('equal')\n",
    "plt.legend(labels, loc=\"best\")\n",
    "plt.show()"
   ]
  },
  {
   "cell_type": "markdown",
   "metadata": {},
   "source": [
    "__As per the plot from above and corresponding table, the revenue coming from viewed ads are mostly from stories that have read the first 3 chapters with a percentage of 50%, followed by predicted LTV with 41.6% (which practically is equal to LTV 3 chapters - LTV 6 chapters).__"
   ]
  },
  {
   "cell_type": "code",
   "execution_count": null,
   "metadata": {},
   "outputs": [],
   "source": []
  }
 ],
 "metadata": {
  "kernelspec": {
   "display_name": "Python 3",
   "language": "python",
   "name": "python3"
  },
  "language_info": {
   "codemirror_mode": {
    "name": "ipython",
    "version": 3
   },
   "file_extension": ".py",
   "mimetype": "text/x-python",
   "name": "python",
   "nbconvert_exporter": "python",
   "pygments_lexer": "ipython3",
   "version": "3.7.0"
  }
 },
 "nbformat": 4,
 "nbformat_minor": 2
}
